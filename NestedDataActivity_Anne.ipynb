{
  "nbformat": 4,
  "nbformat_minor": 0,
  "metadata": {
    "colab": {
      "provenance": [],
      "include_colab_link": true
    },
    "kernelspec": {
      "name": "python3",
      "display_name": "Python 3"
    },
    "language_info": {
      "name": "python"
    }
  },
  "cells": [
    {
      "cell_type": "markdown",
      "metadata": {
        "id": "view-in-github",
        "colab_type": "text"
      },
      "source": [
        "<a href=\"https://colab.research.google.com/github/Anne-h-byte/Hack-The-Hood-Hustle/blob/main/NestedDataActivity_Anne.ipynb\" target=\"_parent\"><img src=\"https://colab.research.google.com/assets/colab-badge.svg\" alt=\"Open In Colab\"/></a>"
      ]
    },
    {
      "cell_type": "markdown",
      "source": [
        "# Warm Up\n",
        "\n",
        "## Recap\n",
        "* What is a data structure?\n",
        "* What is a list?\n",
        "* What is a dictionary?\n",
        "\n",
        "## List or dictionary?\n",
        "\n",
        "What data structure should I use for the following items?\n",
        "1. Groceries\n",
        "2. Contact Info\n",
        "3. Movie ratings\n",
        "4. TV shows I'd like to watch\n",
        "5. Gradebook\n",
        "\n",
        "## More Recap\n",
        "\n",
        "* How do I access an item in a list?\n",
        "\n",
        "* How do I access an item in a dictionary?"
      ],
      "metadata": {
        "id": "beDCmvCLI7g-"
      }
    },
    {
      "cell_type": "code",
      "source": [
        "meal_options = {\n",
        "    \"breakfast\": {\n",
        "        \"food\": [\"pancakes\", \"waffles\", \"fruit\"],\n",
        "        \"drinks\": [\"coffee\", \"black tea\", \"smoothie\", \"water\"]\n",
        "    },\n",
        "    \"lunch\": {\n",
        "        \"food\": [\"sandwich\", \"dumplings\"],\n",
        "        \"drinks\": [\"water\", \"green tea\", \"soda\"]\n",
        "    },\n",
        "    \"dinner\": {\n",
        "        \"food\": [\"ramen\", \"risotto\"],\n",
        "        \"drinks\": [\"water\", \"chamomile tea\"]\n",
        "    }\n",
        "}\n",
        "\n",
        "# 1. print all the meal options\n",
        "print(meal_options)\n",
        "# 2. print only the breakfast options\n",
        "print(meal_options[\"breakfast\"])\n",
        "# 3. print the dinner food options\n",
        "print(meal_options[\"dinner\"][\"food\"])\n",
        "# 4. print the lunch drinks options\n",
        "print(meal_options[\"lunch\"][\"drinks\"])\n",
        "# 5. print waffles (by accessing the dictionaries and list)\n",
        "print(meal_options[\"breakfast\"][\"food\"][1])\n",
        "# 6. print dumplings (by accessing the dictionaries and list)\n",
        "print(meal_options [\"lunch\"] [\"food\"] [1])\n",
        "# 7. print chamomile tea (by accessing the dictionaries and list)\n",
        "print(meal_options [\"dinner\"] [\"drinks\"] [1])\n",
        "# 8. remove green tea from the lunch drinks\n",
        "meal_options [\"lunch\"] [\"drinks\"].pop(1)\n",
        "print(meal_options)\n",
        "# 9. add pizza to dinner foods\n",
        "meal_options [\"dinner\"] [\"food\"].append(\"pizza\")\n",
        "print(meal_options)"
      ],
      "metadata": {
        "id": "4vBhgC6UGhCO",
        "outputId": "00f282d9-1489-4dc4-c99a-34bac8dca16a",
        "colab": {
          "base_uri": "https://localhost:8080/"
        }
      },
      "execution_count": 1,
      "outputs": [
        {
          "output_type": "stream",
          "name": "stdout",
          "text": [
            "{'breakfast': {'food': ['pancakes', 'waffles', 'fruit'], 'drinks': ['coffee', 'black tea', 'smoothie', 'water']}, 'lunch': {'food': ['sandwich', 'dumplings'], 'drinks': ['water', 'green tea', 'soda']}, 'dinner': {'food': ['ramen', 'risotto'], 'drinks': ['water', 'chamomile tea']}}\n",
            "{'food': ['pancakes', 'waffles', 'fruit'], 'drinks': ['coffee', 'black tea', 'smoothie', 'water']}\n",
            "['ramen', 'risotto']\n",
            "['water', 'green tea', 'soda']\n",
            "waffles\n",
            "dumplings\n",
            "chamomile tea\n",
            "{'breakfast': {'food': ['pancakes', 'waffles', 'fruit'], 'drinks': ['coffee', 'black tea', 'smoothie', 'water']}, 'lunch': {'food': ['sandwich', 'dumplings'], 'drinks': ['water', 'soda']}, 'dinner': {'food': ['ramen', 'risotto'], 'drinks': ['water', 'chamomile tea']}}\n",
            "{'breakfast': {'food': ['pancakes', 'waffles', 'fruit'], 'drinks': ['coffee', 'black tea', 'smoothie', 'water']}, 'lunch': {'food': ['sandwich', 'dumplings'], 'drinks': ['water', 'soda']}, 'dinner': {'food': ['ramen', 'risotto', 'pizza'], 'drinks': ['water', 'chamomile tea']}}\n"
          ]
        }
      ]
    }
  ]
}